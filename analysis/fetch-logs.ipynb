{
 "cells": [
  {
   "cell_type": "code",
   "execution_count": 11,
   "metadata": {
    "collapsed": false
   },
   "outputs": [
    {
     "name": "stdout",
     "output_type": "stream",
     "text": [
      "fetching 211.53334MB in 20711 files...\n",
      "1515696\n"
     ]
    }
   ],
   "source": [
    "from moztelemetry.dataset import Dataset\n",
    "import json\n",
    "\n",
    "dataset = Dataset.from_source('telemetry')\n",
    "\n",
    "dataset = (dataset.where(docType='OTHER')\n",
    "                  .where(appName='Firefox')\n",
    "                  .where(appUpdateChannel='beta')\n",
    "                  .where(submissionDate=lambda x: x >= '20170701'))\n",
    "\n",
    "records = dataset.records(sc)\n",
    "\n",
    "logs = records.filter(lambda x: x[\"meta\"][\"docType\"] == \"tls13-middlebox-beta\")\n",
    "\n",
    "print logs.count()\n",
    "\n",
    "# beta_logs = logs.take(10000000)\n",
    "# beta_logs = logs.collect()\n"
   ]
  },
  {
   "cell_type": "code",
   "execution_count": 13,
   "metadata": {
    "collapsed": false
   },
   "outputs": [
    {
     "name": "stdout",
     "output_type": "stream",
     "text": [
      "756362\n"
     ]
    }
   ],
   "source": [
    "def findErrors(x):\n",
    "     return x[\"payload\"][\"status\"] == \"finished\"\n",
    "\n",
    "finished = logs.filter(lambda x: x[\"payload\"][\"status\"] == \"finished\")\n",
    "\n",
    "print finished.count()\n",
    "finished_logs = finished.take(10000000)\n"
   ]
  },
  {
   "cell_type": "code",
   "execution_count": 14,
   "metadata": {
    "collapsed": false
   },
   "outputs": [],
   "source": [
    "with open('logs-beta-finished.json', 'w') as f:\n",
    "    for l in finished_logs:\n",
    "        print >> f, json.dumps(l)\n"
   ]
  },
  {
   "cell_type": "code",
   "execution_count": 8,
   "metadata": {
    "collapsed": false
   },
   "outputs": [
    {
     "data": {
      "text/plain": [
       "'[\"NS_ERROR_UNKNOWN_HOST\"]'"
      ]
     },
     "execution_count": 8,
     "metadata": {},
     "output_type": "execute_result"
    }
   ],
   "source": [
    "def intToHex(num):\n",
    "    return hex(num) if num is not None else None\n",
    "\n",
    "def getErrorString(status, error_code):\n",
    "    if status in [0, None] and error_code in [0, None]:\n",
    "        return \"N/A\"\n",
    "    \n",
    "    msg = []\n",
    "    \n",
    "    if status != 0 and status in error_messages:\n",
    "        msg.extend(error_messages[status])\n",
    "\n",
    "    if error_code != 0 and error_code in error_messages:\n",
    "        for m in error_messages[error_code]:\n",
    "            if m not in msg:\n",
    "                msg.append(m)\n",
    "\n",
    "    return json.dumps(msg)\n",
    "\n",
    "error_messages = {}\n",
    "\n",
    "with open(\"codes.txt\", \"r\") as f:\n",
    "    for line in f:\n",
    "        tokens = line.strip().split()\n",
    "        \n",
    "        if int(tokens[0], 16) not in error_messages:\n",
    "            error_messages[int(tokens[0], 16)] = []\n",
    "\n",
    "        error_messages[int(tokens[0], 16)].append(tokens[1])\n",
    "\n",
    "getErrorString(2152398878, None)\n"
   ]
  },
  {
   "cell_type": "raw",
   "metadata": {
    "collapsed": true
   },
   "source": []
  },
  {
   "cell_type": "code",
   "execution_count": 15,
   "metadata": {
    "collapsed": false
   },
   "outputs": [],
   "source": [
    "import sys\n",
    "import traceback\n",
    "\n",
    "def intToHex(num):\n",
    "    return hex(num) if num is not None else None\n",
    "\n",
    "def getErrorString(status, error_code):\n",
    "    if status in [0, None] and error_code in [0, None]:\n",
    "        return \"N/A\"\n",
    "    \n",
    "    msg = []\n",
    "    \n",
    "    if status != 0 and status in error_messages:\n",
    "        msg.extend(error_messages[status])\n",
    "\n",
    "    if error_code != 0 and error_code in error_messages:\n",
    "        for m in error_messages[error_code]:\n",
    "            if m not in msg:\n",
    "                msg.append(m)\n",
    "\n",
    "    return json.dumps(msg)\n",
    "\n",
    "def getRootCA(result):\n",
    "    if \"isBuiltInRoot\" not in result:\n",
    "        return \"N/A\"\n",
    "    \n",
    "    if result[\"isBuiltInRoot\"]:\n",
    "        return \"Built-In\"\n",
    "    else:\n",
    "        return \"Middlebox\"\n",
    "\n",
    "error_messages = {}\n",
    "\n",
    "with open(\"codes.txt\", \"r\") as f:\n",
    "    for line in f:\n",
    "        tokens = line.strip().split()\n",
    "        \n",
    "        if int(tokens[0], 16) not in error_messages:\n",
    "            error_messages[int(tokens[0], 16)] = []\n",
    "\n",
    "        error_messages[int(tokens[0], 16)].append(tokens[1])\n",
    "\n",
    "with open(\"logs-beta.flat\", \"w\") as outf:\n",
    "#     print >> outf, \"Client\\tNon-BuiltIn Root Cert Installed\\tWebsite\\tChain Root Cert\\tError Codes\"\n",
    "    \n",
    "    with open(\"logs-beta-finished.json\", \"r\") as f:\n",
    "        for line in f:\n",
    "            data = json.loads(line.strip())\n",
    "\n",
    "            if data[\"payload\"][\"status\"] != \"finished\":\n",
    "                continue\n",
    "\n",
    "            for test in sorted(data[\"payload\"][\"tests\"], key=lambda x: x[\"website\"]):\n",
    "                if test[\"result\"][\"event\"] in [\"load\", \"loadend\"]:\n",
    "                    continue\n",
    "\n",
    "                status = test[\"result\"][\"status\"] if \"status\" in test[\"result\"] else None\n",
    "                error_code = test[\"result\"][\"errorCode\"] if \"errorCode\" in test[\"result\"] else None\n",
    "\n",
    "                print >> outf, \"%s\\t%s\\t%s\\t%s\\t%s\\t%s\" % \\\n",
    "                      (data[\"id\"], \\\n",
    "                       \"Yes\" if data[\"payload\"][\"isNonBuiltInRootCertInstalled\"] else \"No\", \\\n",
    "                       test[\"website\"], test[\"result\"][\"event\"], \\\n",
    "                       getRootCA(test[\"result\"]),\n",
    "                       getErrorString(status, error_code))\n"
   ]
  },
  {
   "cell_type": "code",
   "execution_count": 6,
   "metadata": {
    "collapsed": false
   },
   "outputs": [
    {
     "name": "stdout",
     "output_type": "stream",
     "text": [
      "0x804b0002\tNone\t['NS_BINDING_ABORTED']\n",
      "0x0\t0x0\tNone\n",
      "0x804b001e\tNone\t['NS_ERROR_UNKNOWN_HOST']\n"
     ]
    }
   ],
   "source": []
  },
  {
   "cell_type": "code",
   "execution_count": null,
   "metadata": {
    "collapsed": true
   },
   "outputs": [],
   "source": []
  }
 ],
 "metadata": {
  "anaconda-cloud": {},
  "kernelspec": {
   "display_name": "Python [default]",
   "language": "python",
   "name": "python2"
  }
 },
 "nbformat": 4,
 "nbformat_minor": 1
}
