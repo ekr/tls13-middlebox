{
 "cells": [
  {
   "cell_type": "code",
   "execution_count": 1,
   "metadata": {
    "collapsed": false
   },
   "outputs": [
    {
     "name": "stdout",
     "output_type": "stream",
     "text": [
      "fetching 92.89840MB in 9924 files...\n",
      "659825\n"
     ]
    }
   ],
   "source": [
    "from moztelemetry.dataset import Dataset\n",
    "import json\n",
    "\n",
    "dataset = Dataset.from_source('telemetry')\n",
    "\n",
    "dataset = (dataset.where(docType='OTHER')\n",
    "                  .where(appName='Firefox')\n",
    "                  .where(appUpdateChannel='beta')\n",
    "                  .where(submissionDate=lambda x: x >= '20170712'))\n",
    "\n",
    "records = dataset.records(sc)\n",
    "\n",
    "logs = records.filter(lambda x: x[\"meta\"][\"docType\"] == \"tls13-middlebox-beta\")\n",
    "\n",
    "print logs.count()\n",
    "\n",
    "beta_logs = logs.take(1000000)\n"
   ]
  },
  {
   "cell_type": "code",
   "execution_count": 2,
   "metadata": {
    "collapsed": false
   },
   "outputs": [],
   "source": [
    "with open('beta-logs.json', 'w') as f:\n",
    "    for l in beta_logs:\n",
    "        print >> f, json.dumps(l)\n"
   ]
  },
  {
   "cell_type": "code",
   "execution_count": 3,
   "metadata": {
    "collapsed": false
   },
   "outputs": [
    {
     "name": "stdout",
     "output_type": "stream",
     "text": [
      "<class 'pyspark.rdd.PipelinedRDD'>\n"
     ]
    }
   ],
   "source": []
  },
  {
   "cell_type": "code",
   "execution_count": 39,
   "metadata": {
    "collapsed": false
   },
   "outputs": [
    {
     "name": "stdout",
     "output_type": "stream",
     "text": [
      "securityState:  ['0x40002', '0x4']\n",
      "status:  ['0x0', '0x804b0002', '0x80004004', '0x80004005', '0x804b000d', '0x804b000e', '0x80040111', '0x804b0014', '0x805a2fef', '0x805a2f9c', '0x804b001e', '0x805a2fa1', '0x805a2fa2', None, '0x805a1f76', '0x804b0047', '0x804b0048', '0x805a2fca', '0x805a1f50', '0x805a1fe2', '0x805a2fe7', '0x805a3ffd', '0x805a2ff1', '0x805a1ff3', '0x805a2ff4', '0x805a1ff6', '0x805a2ff9', '0x805a3ffa', '0x805a1f7c', '0x805a1f7d', '0x805a2ffe', '0x805a1fff']\n",
      "errorCode:  ['0x0', '-0x1fff', '-0x2ffe', '-0x1f7d', '-0x1f7c', '-0x3ffa', '-0x2ff9', '-0x1ff6', '-0x2ff4', '-0x1ff3', '-0x2ff1', '-0x2ff0', '-0x2fef', '-0x3ffd', '-0x2fe7', '-0x1fe2', '-0x1f50', None, '-0x2fca', '-0x1749', '-0x2fc5', '-0x1f76', '-0x1732', '-0x1728', '-0x2fa2', '-0x2fa1', '-0x2f9c']\n",
      "status errorCode pair: \n"
     ]
    },
    {
     "data": {
      "text/plain": [
       "[(None, None),\n",
       " ('0x0', None),\n",
       " ('0x0', '0x0'),\n",
       " ('0x80004004', None),\n",
       " ('0x80004004', '-0x1728'),\n",
       " ('0x80004004', '-0x1732'),\n",
       " ('0x80004004', '-0x1749'),\n",
       " ('0x80004004', '-0x2fc5'),\n",
       " ('0x80004004', '-0x2ff0'),\n",
       " ('0x80004004', '-0x2ff1'),\n",
       " ('0x80004004', '0x0'),\n",
       " ('0x80004005', None),\n",
       " ('0x80004005', '0x0'),\n",
       " ('0x80040111', None),\n",
       " ('0x804b0002', None),\n",
       " ('0x804b0002', '0x0'),\n",
       " ('0x804b000d', None),\n",
       " ('0x804b000e', None),\n",
       " ('0x804b0014', None),\n",
       " ('0x804b0014', '-0x1728'),\n",
       " ('0x804b0014', '-0x1749'),\n",
       " ('0x804b0014', '0x0'),\n",
       " ('0x804b001e', None),\n",
       " ('0x804b0047', '-0x1732'),\n",
       " ('0x804b0048', None),\n",
       " ('0x805a1f50', '-0x1f50'),\n",
       " ('0x805a1f76', '-0x1f76'),\n",
       " ('0x805a1f7c', '-0x1f7c'),\n",
       " ('0x805a1f7d', '-0x1f7d'),\n",
       " ('0x805a1fe2', '-0x1fe2'),\n",
       " ('0x805a1ff3', '-0x1ff3'),\n",
       " ('0x805a1ff6', '-0x1ff6'),\n",
       " ('0x805a1fff', '-0x1fff'),\n",
       " ('0x805a2f9c', '-0x2f9c'),\n",
       " ('0x805a2fa1', '-0x2fa1'),\n",
       " ('0x805a2fa2', '-0x2fa2'),\n",
       " ('0x805a2fca', '-0x2fca'),\n",
       " ('0x805a2fe7', '-0x2fe7'),\n",
       " ('0x805a2fef', '-0x2fef'),\n",
       " ('0x805a2ff1', '-0x2ff1'),\n",
       " ('0x805a2ff4', '-0x2ff4'),\n",
       " ('0x805a2ff9', '-0x2ff9'),\n",
       " ('0x805a2ffe', '-0x2ffe'),\n",
       " ('0x805a3ffa', '-0x3ffa'),\n",
       " ('0x805a3ffd', '-0x3ffd')]"
      ]
     },
     "execution_count": 39,
     "metadata": {},
     "output_type": "execute_result"
    }
   ],
   "source": [
    "import sys\n",
    "import traceback\n",
    "\n",
    "def intToHex(num):\n",
    "    return hex(num) if num is not None else None\n",
    "\n",
    "def getErrorString(ec):\n",
    "    if ec in error_names:\n",
    "        error_names[ec]\n",
    "        \n",
    "    return []\n",
    "\n",
    "error_names = {}\n",
    "\n",
    "with open(\"codes.txt\", \"r\") as f:\n",
    "    for line in f:\n",
    "        tokens = line.strip().split()\n",
    "        \n",
    "        if int(tokens[0]) not in error_names:\n",
    "            error_names[int(tokens[0])] = []\n",
    "            \n",
    "        error_names[int(tokens[0])].append(tokens[1])\n",
    "\n",
    "security_states = set()\n",
    "status = set()\n",
    "errorCodes = set()\n",
    "status_error_codes = set()\n",
    "\n",
    "try:\n",
    "    with open(\"beta-logs-finihsed.json\", \"r\") as f:\n",
    "        for line in f:\n",
    "            data = json.loads(line.strip())\n",
    "\n",
    "            for test in data[\"payload\"][\"tests\"]:\n",
    "                if \"securityState\" in test[\"result\"]:\n",
    "                    security_states.add(test[\"result\"][\"securityState\"])\n",
    "                \n",
    "                s = (test[\"result\"][\"status\"] if \"status\" in test[\"result\"] else None)\n",
    "                status.add(s)\n",
    "                \n",
    "                ec = (test[\"result\"][\"errorCode\"] if \"errorCode\" in test[\"result\"] else None)\n",
    "                errorCodes.add(ec)\n",
    "                \n",
    "                status_error_codes.add((s, ec))\n",
    "except:\n",
    "    print >> sys.stderr, traceback.format_exc()\n",
    "    print >> sys.stderr, json.dumps(data, indent=4, separators=(',', ': '))\n",
    "\n",
    "print \"securityState: \", [intToHex(x) for x in security_states]\n",
    "print \"status: \", [intToHex(x) for x in status]\n",
    "print \"errorCode: \", [intToHex(x) for x in errorCodes]\n",
    "\n",
    "print \"status errorCode pair: \"\n",
    "\n",
    "sorted_ = sorted([(x, y) for x, y in status_error_codes], key=lambda z: (z[0], z[1]))\n",
    "\n",
    "for x, y in sorted_:\n",
    "    print \"%s (%s)\\t%s (%s)\" % (intToHex(x), getErrorString(x), intToHex(y), getErrorString(y))\n"
   ]
  },
  {
   "cell_type": "raw",
   "metadata": {
    "collapsed": true
   },
   "source": []
  },
  {
   "cell_type": "code",
   "execution_count": null,
   "metadata": {
    "collapsed": true
   },
   "outputs": [],
   "source": []
  }
 ],
 "metadata": {
  "anaconda-cloud": {},
  "kernelspec": {
   "display_name": "Python [default]",
   "language": "python",
   "name": "python2"
  },
  "language_info": {
   "codemirror_mode": {
    "name": "ipython",
    "version": 2
   },
   "file_extension": ".py",
   "mimetype": "text/x-python",
   "name": "python",
   "nbconvert_exporter": "python",
   "pygments_lexer": "ipython2",
   "version": "2.7.12"
  }
 },
 "nbformat": 4,
 "nbformat_minor": 1
}
