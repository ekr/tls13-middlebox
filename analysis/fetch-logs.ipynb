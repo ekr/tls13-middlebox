{
 "cells": [
  {
   "cell_type": "code",
   "execution_count": 1,
   "metadata": {
    "collapsed": false
   },
   "outputs": [
    {
     "name": "stdout",
     "output_type": "stream",
     "text": [
      "fetching 0.04200MB in 24 files...\n",
      "29\n"
     ]
    }
   ],
   "source": [
    "from moztelemetry.dataset import Dataset\n",
    "import json\n",
    "\n",
    "dataset = Dataset.from_source('telemetry')\n",
    "\n",
    "dataset = (dataset.where(docType='OTHER')\n",
    "                  .where(appName='Firefox')\n",
    "                  .where(appUpdateChannel='nightly')\n",
    "                  .where(submissionDate=lambda x: x >= '20170719'))\n",
    "\n",
    "records = dataset.records(sc)\n",
    "\n",
    "logs = records.filter(lambda x: x[\"meta\"][\"docType\"] == \"tls13-middlebox-beta\")\n",
    "\n",
    "print logs.count()\n",
    "\n",
    "nightly_logs = logs.take(10000000)\n"
   ]
  },
  {
   "cell_type": "code",
   "execution_count": 5,
   "metadata": {
    "collapsed": false
   },
   "outputs": [
    {
     "name": "stdout",
     "output_type": "stream",
     "text": [
      "started 461722\n",
      "finished 460146\n",
      "aborted 233\n"
     ]
    }
   ],
   "source": []
  },
  {
   "cell_type": "code",
   "execution_count": 2,
   "metadata": {
    "collapsed": false
   },
   "outputs": [],
   "source": [
    "# with open('beta-nightly.json', 'w') as f:\n",
    "#     for l in nightly_logs:\n",
    "#         print >> f, json.dumps(l)\n"
   ]
  },
  {
   "cell_type": "code",
   "execution_count": null,
   "metadata": {
    "collapsed": false
   },
   "outputs": [],
   "source": []
  },
  {
   "cell_type": "raw",
   "metadata": {
    "collapsed": true
   },
   "source": []
  },
  {
   "cell_type": "code",
   "execution_count": 28,
   "metadata": {
    "collapsed": false
   },
   "outputs": [],
   "source": [
    "import sys\n",
    "import traceback\n",
    "\n",
    "def intToHex(num):\n",
    "    return hex(num) if num is not None else None\n",
    "\n",
    "def getErrorString(status, error_code):\n",
    "    if status in [0, None] and error_code in [0, None]:\n",
    "        return \"N/A\"\n",
    "    \n",
    "    msg = []\n",
    "    \n",
    "    if status != 0 and status in error_messages:\n",
    "        msg.extend(error_messages[status])\n",
    "\n",
    "    if error_code != 0 and error_code in error_messages:\n",
    "        for m in error_messages[error_code]:\n",
    "            if m not in msg:\n",
    "                msg.append(m)\n",
    "\n",
    "    return json.dumps(msg)\n",
    "\n",
    "def getRootCA(result):\n",
    "    if \"isBuiltInRoot\" not in result:\n",
    "        return \"N/A\"\n",
    "    \n",
    "    if result[\"isBuiltInRoot\"]:\n",
    "        return \"Built-In\"\n",
    "    else:\n",
    "        return \"Middlebox\"\n",
    "\n",
    "error_messages = {}\n",
    "\n",
    "with open(\"codes.txt\", \"r\") as f:\n",
    "    for line in f:\n",
    "        tokens = line.strip().split()\n",
    "        \n",
    "        if int(tokens[0], 16) not in error_messages:\n",
    "            error_messages[int(tokens[0], 16)] = []\n",
    "\n",
    "        error_messages[int(tokens[0], 16)].append(tokens[1])\n",
    "\n",
    "with open(\"logs-beta.flat\", \"w\") as outf:\n",
    "#     print >> outf, \"Client\\tNon-BuiltIn Root Cert Installed\\tWebsite\\tChain Root Cert\\tError Codes\"\n",
    "    \n",
    "    with open(\"logs-beta.json\", \"r\") as f:\n",
    "        for line in f:\n",
    "            data = json.loads(line.strip())\n",
    "\n",
    "            if data[\"payload\"][\"status\"] != \"finished\":\n",
    "                continue\n",
    "\n",
    "            for test in sorted(data[\"payload\"][\"tests\"], key=lambda x: x[\"website\"]):\n",
    "                if test[\"result\"][\"event\"] in [\"load\", \"loadend\"]:\n",
    "                    continue\n",
    "\n",
    "                status = test[\"result\"][\"status\"] if \"status\" in test[\"result\"] else None\n",
    "                error_code = test[\"result\"][\"errorCode\"] if \"errorCode\" in test[\"result\"] else None\n",
    "\n",
    "                print >> outf, \"%s\\t%s\\t%s\\t%s\\t%s\\t%s\" % \\\n",
    "                      (data[\"id\"], \\\n",
    "                       \"Yes\" if data[\"payload\"][\"isNonBuiltInRootCertInstalled\"] else \"No\", \\\n",
    "                       test[\"website\"], test[\"result\"][\"event\"], \\\n",
    "                       getRootCA(test[\"result\"]),\n",
    "                       getErrorString(status, error_code))\n"
   ]
  },
  {
   "cell_type": "code",
   "execution_count": 6,
   "metadata": {
    "collapsed": false
   },
   "outputs": [
    {
     "name": "stdout",
     "output_type": "stream",
     "text": [
      "0x804b0002\tNone\t['NS_BINDING_ABORTED']\n",
      "0x0\t0x0\tNone\n",
      "0x804b001e\tNone\t['NS_ERROR_UNKNOWN_HOST']\n"
     ]
    }
   ],
   "source": []
  },
  {
   "cell_type": "code",
   "execution_count": null,
   "metadata": {
    "collapsed": true
   },
   "outputs": [],
   "source": []
  }
 ],
 "metadata": {
  "anaconda-cloud": {},
  "kernelspec": {
   "display_name": "Python [default]",
   "language": "python",
   "name": "python2"
  },
  "language_info": {
   "codemirror_mode": {
    "name": "ipython",
    "version": 2
   },
   "file_extension": ".py",
   "mimetype": "text/x-python",
   "name": "python",
   "nbconvert_exporter": "python",
   "pygments_lexer": "ipython2",
   "version": "2.7.12"
  }
 },
 "nbformat": 4,
 "nbformat_minor": 1
}
