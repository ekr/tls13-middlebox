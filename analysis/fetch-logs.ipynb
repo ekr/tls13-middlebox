{
 "cells": [
  {
   "cell_type": "code",
   "execution_count": 1,
   "metadata": {
    "collapsed": false
   },
   "outputs": [
    {
     "name": "stdout",
     "output_type": "stream",
     "text": [
      "fetching 92.89840MB in 9924 files...\n",
      "659825\n"
     ]
    }
   ],
   "source": [
    "from moztelemetry.dataset import Dataset\n",
    "import json\n",
    "\n",
    "dataset = Dataset.from_source('telemetry')\n",
    "\n",
    "dataset = (dataset.where(docType='OTHER')\n",
    "                  .where(appName='Firefox')\n",
    "                  .where(appUpdateChannel='beta')\n",
    "                  .where(submissionDate=lambda x: x >= '20170712'))\n",
    "\n",
    "records = dataset.records(sc)\n",
    "\n",
    "logs = records.filter(lambda x: x[\"meta\"][\"docType\"] == \"tls13-middlebox-beta\")\n",
    "\n",
    "print logs.count()\n",
    "\n",
    "beta_logs = logs.take(1000000)\n"
   ]
  },
  {
   "cell_type": "code",
   "execution_count": 2,
   "metadata": {
    "collapsed": false
   },
   "outputs": [],
   "source": [
    "with open('beta-logs.json', 'w') as f:\n",
    "    for l in beta_logs:\n",
    "        print >> f, json.dumps(l)\n"
   ]
  },
  {
   "cell_type": "code",
   "execution_count": 3,
   "metadata": {
    "collapsed": false
   },
   "outputs": [
    {
     "name": "stdout",
     "output_type": "stream",
     "text": [
      "<class 'pyspark.rdd.PipelinedRDD'>\n"
     ]
    }
   ],
   "source": []
  },
  {
   "cell_type": "code",
   "execution_count": 42,
   "metadata": {
    "collapsed": false
   },
   "outputs": [
    {
     "name": "stdout",
     "output_type": "stream",
     "text": [
      "securityState:  ['0x40002', '0x4']\n",
      "status:  ['0x0', '0x804b0002', '0x80004004', '0x80004005', '0x804b000d', '0x804b000e', '0x80040111', '0x804b0014', '0x805a2fef', '0x805a2f9c', '0x804b001e', '0x805a2fa1', '0x805a2fa2', None, '0x805a1f76', '0x804b0047', '0x804b0048', '0x805a2fca', '0x805a1f50', '0x805a1fe2', '0x805a2fe7', '0x805a3ffd', '0x805a2ff1', '0x805a1ff3', '0x805a2ff4', '0x805a1ff6', '0x805a2ff9', '0x805a3ffa', '0x805a1f7c', '0x805a1f7d', '0x805a2ffe', '0x805a1fff']\n",
      "errorCode:  ['0x0', '-0x1fff', '-0x2ffe', '-0x1f7d', '-0x1f7c', '-0x3ffa', '-0x2ff9', '-0x1ff6', '-0x2ff4', '-0x1ff3', '-0x2ff1', '-0x2ff0', '-0x2fef', '-0x3ffd', '-0x2fe7', '-0x1fe2', '-0x1f50', None, '-0x2fca', '-0x1749', '-0x2fc5', '-0x1f76', '-0x1732', '-0x1728', '-0x2fa2', '-0x2fa1', '-0x2f9c']\n",
      "status errorCode pair: \n",
      "None ([])\tNone ([])\n",
      "0x0 (['NS_BINDING_SUCCEEDED', 'NS_ERROR_HTMLPARSER_CONTINUE', 'NS_OK', 'NS_RDF_ASSERTION_ACCEPTED', 'NS_STATE_PROPERTY_EXISTS'])\tNone ([])\n",
      "0x0 (['NS_BINDING_SUCCEEDED', 'NS_ERROR_HTMLPARSER_CONTINUE', 'NS_OK', 'NS_RDF_ASSERTION_ACCEPTED', 'NS_STATE_PROPERTY_EXISTS'])\t0x0 (['NS_BINDING_SUCCEEDED', 'NS_ERROR_HTMLPARSER_CONTINUE', 'NS_OK', 'NS_RDF_ASSERTION_ACCEPTED', 'NS_STATE_PROPERTY_EXISTS'])\n",
      "0x80004004 (['NS_ERROR_ABORT'])\tNone ([])\n",
      "0x80004004 (['NS_ERROR_ABORT'])\t-0x2ff1 (['SSL_ERROR_BAD_MAC_READ'])\n",
      "0x80004004 (['NS_ERROR_ABORT'])\t-0x2ff0 (['SSL_ERROR_BAD_MAC_ALERT'])\n",
      "0x80004004 (['NS_ERROR_ABORT'])\t-0x2fc5 (['SSL_ERROR_HANDSHAKE_UNEXPECTED_ALERT'])\n",
      "0x80004004 (['NS_ERROR_ABORT'])\t-0x1749 (['PR_CONNECT_RESET_ERROR'])\n",
      "0x80004004 (['NS_ERROR_ABORT'])\t-0x1732 (['PR_END_OF_FIE_ERROR'])\n",
      "0x80004004 (['NS_ERROR_ABORT'])\t-0x1728 (['PR_CONNECT_ABORTED_ERROR'])\n",
      "0x80004004 (['NS_ERROR_ABORT'])\t0x0 (['NS_BINDING_SUCCEEDED', 'NS_ERROR_HTMLPARSER_CONTINUE', 'NS_OK', 'NS_RDF_ASSERTION_ACCEPTED', 'NS_STATE_PROPERTY_EXISTS'])\n",
      "0x80004005 (['NS_ERROR_FAILURE'])\tNone ([])\n",
      "0x80004005 (['NS_ERROR_FAILURE'])\t0x0 (['NS_BINDING_SUCCEEDED', 'NS_ERROR_HTMLPARSER_CONTINUE', 'NS_OK', 'NS_RDF_ASSERTION_ACCEPTED', 'NS_STATE_PROPERTY_EXISTS'])\n",
      "0x80040111 (['NS_ERROR_NOT_AVAILABLE'])\tNone ([])\n",
      "0x804b0002 (['NS_BINDING_ABORTED'])\tNone ([])\n",
      "0x804b0002 (['NS_BINDING_ABORTED'])\t0x0 (['NS_BINDING_SUCCEEDED', 'NS_ERROR_HTMLPARSER_CONTINUE', 'NS_OK', 'NS_RDF_ASSERTION_ACCEPTED', 'NS_STATE_PROPERTY_EXISTS'])\n",
      "0x804b000d (['NS_ERROR_CONNECTION_REFUSED', 'NS_NET_STATUS_TLS_HANDSHAKE_ENDED'])\tNone ([])\n",
      "0x804b000e (['NS_ERROR_NET_TIMEOUT'])\tNone ([])\n",
      "0x804b0014 (['NS_ERROR_NET_RESET'])\tNone ([])\n",
      "0x804b0014 (['NS_ERROR_NET_RESET'])\t-0x1749 (['PR_CONNECT_RESET_ERROR'])\n",
      "0x804b0014 (['NS_ERROR_NET_RESET'])\t-0x1728 (['PR_CONNECT_ABORTED_ERROR'])\n",
      "0x804b0014 (['NS_ERROR_NET_RESET'])\t0x0 (['NS_BINDING_SUCCEEDED', 'NS_ERROR_HTMLPARSER_CONTINUE', 'NS_OK', 'NS_RDF_ASSERTION_ACCEPTED', 'NS_STATE_PROPERTY_EXISTS'])\n",
      "0x804b001e (['NS_ERROR_UNKNOWN_HOST'])\tNone ([])\n",
      "0x804b0047 (['NS_ERROR_NET_INTERRUPT'])\t-0x1732 (['PR_END_OF_FIE_ERROR'])\n",
      "0x804b0048 (['NS_ERROR_PROXY_CONNECTION_REFUSED'])\tNone ([])\n",
      "0x805a1f50 ([])\t-0x1f50 (['SEC_ERROR_CERT_SIGNATURE_ALGORITHM_DISABLED'])\n",
      "0x805a1f76 ([])\t-0x1f76 (['SEC_ERROR_REUSED_ISSUER_AND_SERIAL'])\n",
      "0x805a1f7c ([])\t-0x1f7c (['SEC_ERROR_OCSP_OLD_RESPONSE'])\n",
      "0x805a1f7d ([])\t-0x1f7d (['SEC_ERROR_OCSP_FUTURE_RESPONSE'])\n",
      "0x805a1fe2 ([])\t-0x1fe2 (['SEC_ERROR_EXPIRED_ISSUER_CERTIFICATE'])\n",
      "0x805a1ff3 ([])\t-0x1ff3 (['SEC_ERROR_UNKNOWN_ISSUER'])\n",
      "0x805a1ff6 ([])\t-0x1ff6 (['SEC_ERROR_BAD_SIGNATURE'])\n",
      "0x805a1fff ([])\t-0x1fff (['SEC_ERROR_LIBRARY_FAILURE'])\n",
      "0x805a2f9c ([])\t-0x2f9c (['SSL_ERROR_INTERNAL_ERROR_ALERT'])\n",
      "0x805a2fa1 ([])\t-0x2fa1 (['SSL_ERROR_DECODE_ERROR_ALERT'])\n",
      "0x805a2fa2 ([])\t-0x2fa2 (['SSL_ERROR_ACCESS_DENIED_ALERT'])\n",
      "0x805a2fca ([])\t-0x2fca (['SSL_ERROR_RX_UNEXPECTED_APPLICATION_DATA'])\n",
      "0x805a2fe7 ([])\t-0x2fe7 (['SSL_ERROR_RX_RECORD_TOO_LONG'])\n",
      "0x805a2fef ([])\t-0x2fef (['SSL_ERROR_BAD_CERT_ALERT'])\n",
      "0x805a2ff1 ([])\t-0x2ff1 (['SSL_ERROR_BAD_MAC_READ'])\n",
      "0x805a2ff4 ([])\t-0x2ff4 (['SSL_ERROR_BAD_CERT_DOMAIN'])\n",
      "0x805a2ff9 ([])\t-0x2ff9 (['SSL_ERROR_BAD_SERVER'])\n",
      "0x805a2ffe ([])\t-0x2ffe (['SSL_ERROR_NO_CYPHER_OVERLAP'])\n",
      "0x805a3ffa ([])\t-0x3ffa ([])\n",
      "0x805a3ffd ([])\t-0x3ffd ([])\n"
     ]
    }
   ],
   "source": [
    "import sys\n",
    "import traceback\n",
    "\n",
    "security_states = set()\n",
    "status = set()\n",
    "errorCodes = set()\n",
    "status_error_codes = set()\n",
    "\n",
    "try:\n",
    "    with open(\"beta-logs-finihsed.json\", \"r\") as f:\n",
    "        for line in f:\n",
    "            data = json.loads(line.strip())\n",
    "\n",
    "            for test in data[\"payload\"][\"tests\"]:\n",
    "                if \"securityState\" in test[\"result\"]:\n",
    "                    security_states.add(test[\"result\"][\"securityState\"])\n",
    "                \n",
    "                s = (test[\"result\"][\"status\"] if \"status\" in test[\"result\"] else None)\n",
    "                status.add(s)\n",
    "                \n",
    "                ec = (test[\"result\"][\"errorCode\"] if \"errorCode\" in test[\"result\"] else None)\n",
    "                errorCodes.add(ec)\n",
    "                \n",
    "                status_error_codes.add((s, ec))\n",
    "except:\n",
    "    print >> sys.stderr, traceback.format_exc()\n",
    "    print >> sys.stderr, json.dumps(data, indent=4, separators=(',', ': '))\n",
    "\n",
    "print \"securityState: \", [intToHex(x) for x in security_states]\n",
    "print \"status: \", [intToHex(x) for x in status]\n",
    "print \"errorCode: \", [intToHex(x) for x in errorCodes]\n"
   ]
  },
  {
   "cell_type": "raw",
   "metadata": {
    "collapsed": true
   },
   "source": []
  },
  {
   "cell_type": "code",
   "execution_count": 45,
   "metadata": {
    "collapsed": false
   },
   "outputs": [
    {
     "name": "stdout",
     "output_type": "stream",
     "text": [
      "status errorCode pair: \n",
      "None (None)\tNone (None)\n",
      "0x0 (NS_BINDING_SUCCEEDED,NS_ERROR_HTMLPARSER_CONTINUE,NS_OK,NS_RDF_ASSERTION_ACCEPTED,NS_STATE_PROPERTY_EXISTS)\tNone (None)\n",
      "0x0 (NS_BINDING_SUCCEEDED,NS_ERROR_HTMLPARSER_CONTINUE,NS_OK,NS_RDF_ASSERTION_ACCEPTED,NS_STATE_PROPERTY_EXISTS)\t0x0 (NS_BINDING_SUCCEEDED,NS_ERROR_HTMLPARSER_CONTINUE,NS_OK,NS_RDF_ASSERTION_ACCEPTED,NS_STATE_PROPERTY_EXISTS)\n",
      "0x80004004 (NS_ERROR_ABORT)\tNone (None)\n",
      "0x80004004 (NS_ERROR_ABORT)\t-0x2ff1 (SSL_ERROR_BAD_MAC_READ)\n",
      "0x80004004 (NS_ERROR_ABORT)\t-0x2ff0 (SSL_ERROR_BAD_MAC_ALERT)\n",
      "0x80004004 (NS_ERROR_ABORT)\t-0x2fc5 (SSL_ERROR_HANDSHAKE_UNEXPECTED_ALERT)\n",
      "0x80004004 (NS_ERROR_ABORT)\t-0x1749 (PR_CONNECT_RESET_ERROR)\n",
      "0x80004004 (NS_ERROR_ABORT)\t-0x1732 (PR_END_OF_FIE_ERROR)\n",
      "0x80004004 (NS_ERROR_ABORT)\t-0x1728 (PR_CONNECT_ABORTED_ERROR)\n",
      "0x80004004 (NS_ERROR_ABORT)\t0x0 (NS_BINDING_SUCCEEDED,NS_ERROR_HTMLPARSER_CONTINUE,NS_OK,NS_RDF_ASSERTION_ACCEPTED,NS_STATE_PROPERTY_EXISTS)\n",
      "0x80004005 (NS_ERROR_FAILURE)\tNone (None)\n",
      "0x80004005 (NS_ERROR_FAILURE)\t0x0 (NS_BINDING_SUCCEEDED,NS_ERROR_HTMLPARSER_CONTINUE,NS_OK,NS_RDF_ASSERTION_ACCEPTED,NS_STATE_PROPERTY_EXISTS)\n",
      "0x80040111 (NS_ERROR_NOT_AVAILABLE)\tNone (None)\n",
      "0x804b0002 (NS_BINDING_ABORTED)\tNone (None)\n",
      "0x804b0002 (NS_BINDING_ABORTED)\t0x0 (NS_BINDING_SUCCEEDED,NS_ERROR_HTMLPARSER_CONTINUE,NS_OK,NS_RDF_ASSERTION_ACCEPTED,NS_STATE_PROPERTY_EXISTS)\n",
      "0x804b000d (NS_ERROR_CONNECTION_REFUSED,NS_NET_STATUS_TLS_HANDSHAKE_ENDED)\tNone (None)\n",
      "0x804b000e (NS_ERROR_NET_TIMEOUT)\tNone (None)\n",
      "0x804b0014 (NS_ERROR_NET_RESET)\tNone (None)\n",
      "0x804b0014 (NS_ERROR_NET_RESET)\t-0x1749 (PR_CONNECT_RESET_ERROR)\n",
      "0x804b0014 (NS_ERROR_NET_RESET)\t-0x1728 (PR_CONNECT_ABORTED_ERROR)\n",
      "0x804b0014 (NS_ERROR_NET_RESET)\t0x0 (NS_BINDING_SUCCEEDED,NS_ERROR_HTMLPARSER_CONTINUE,NS_OK,NS_RDF_ASSERTION_ACCEPTED,NS_STATE_PROPERTY_EXISTS)\n",
      "0x804b001e (NS_ERROR_UNKNOWN_HOST)\tNone (None)\n",
      "0x804b0047 (NS_ERROR_NET_INTERRUPT)\t-0x1732 (PR_END_OF_FIE_ERROR)\n",
      "0x804b0048 (NS_ERROR_PROXY_CONNECTION_REFUSED)\tNone (None)\n",
      "0x805a1f50 (None)\t-0x1f50 (SEC_ERROR_CERT_SIGNATURE_ALGORITHM_DISABLED)\n",
      "0x805a1f76 (None)\t-0x1f76 (SEC_ERROR_REUSED_ISSUER_AND_SERIAL)\n",
      "0x805a1f7c (None)\t-0x1f7c (SEC_ERROR_OCSP_OLD_RESPONSE)\n",
      "0x805a1f7d (None)\t-0x1f7d (SEC_ERROR_OCSP_FUTURE_RESPONSE)\n",
      "0x805a1fe2 (None)\t-0x1fe2 (SEC_ERROR_EXPIRED_ISSUER_CERTIFICATE)\n",
      "0x805a1ff3 (None)\t-0x1ff3 (SEC_ERROR_UNKNOWN_ISSUER)\n",
      "0x805a1ff6 (None)\t-0x1ff6 (SEC_ERROR_BAD_SIGNATURE)\n",
      "0x805a1fff (None)\t-0x1fff (SEC_ERROR_LIBRARY_FAILURE)\n",
      "0x805a2f9c (None)\t-0x2f9c (SSL_ERROR_INTERNAL_ERROR_ALERT)\n",
      "0x805a2fa1 (None)\t-0x2fa1 (SSL_ERROR_DECODE_ERROR_ALERT)\n",
      "0x805a2fa2 (None)\t-0x2fa2 (SSL_ERROR_ACCESS_DENIED_ALERT)\n",
      "0x805a2fca (None)\t-0x2fca (SSL_ERROR_RX_UNEXPECTED_APPLICATION_DATA)\n",
      "0x805a2fe7 (None)\t-0x2fe7 (SSL_ERROR_RX_RECORD_TOO_LONG)\n",
      "0x805a2fef (None)\t-0x2fef (SSL_ERROR_BAD_CERT_ALERT)\n",
      "0x805a2ff1 (None)\t-0x2ff1 (SSL_ERROR_BAD_MAC_READ)\n",
      "0x805a2ff4 (None)\t-0x2ff4 (SSL_ERROR_BAD_CERT_DOMAIN)\n",
      "0x805a2ff9 (None)\t-0x2ff9 (SSL_ERROR_BAD_SERVER)\n",
      "0x805a2ffe (None)\t-0x2ffe (SSL_ERROR_NO_CYPHER_OVERLAP)\n",
      "0x805a3ffa (None)\t-0x3ffa (MOZILLA_PKIX_ERROR_NOT_YET_VALID_ISSUER_CERTIFICATE)\n",
      "0x805a3ffd (None)\t-0x3ffd (MOZILLA_PKIX_ERROR_V1_CERT_USED_AS_CA)\n"
     ]
    }
   ],
   "source": [
    "\n",
    "def intToHex(num):\n",
    "    return hex(num) if num is not None else None\n",
    "\n",
    "def getErrorString(ec):\n",
    "    if ec in error_names:\n",
    "        return ','.join(error_names[ec])\n",
    "        \n",
    "    return None\n",
    "\n",
    "error_names = {}\n",
    "\n",
    "with open(\"codes.txt\", \"r\") as f:\n",
    "    for line in f:\n",
    "        tokens = line.strip().split()\n",
    "        \n",
    "        if int(tokens[0], 16) not in error_names:\n",
    "            error_names[int(tokens[0], 16)] = []\n",
    "            \n",
    "        error_names[int(tokens[0], 16)].append(tokens[1])\n",
    "\n",
    "print \"status errorCode pair: \"\n",
    "\n",
    "sorted_ = sorted([(x, y) for x, y in status_error_codes], key=lambda z: (z[0], z[1]))\n",
    "\n",
    "for x, y in sorted_:\n",
    "    print \"%s (%s)\\t%s (%s)\" % (intToHex(x), getErrorString(x), intToHex(y), getErrorString(y))\n"
   ]
  },
  {
   "cell_type": "code",
   "execution_count": null,
   "metadata": {
    "collapsed": true
   },
   "outputs": [],
   "source": []
  }
 ],
 "metadata": {
  "anaconda-cloud": {},
  "kernelspec": {
   "display_name": "Python [default]",
   "language": "python",
   "name": "python2"
  },
  "language_info": {
   "codemirror_mode": {
    "name": "ipython",
    "version": 2
   },
   "file_extension": ".py",
   "mimetype": "text/x-python",
   "name": "python",
   "nbconvert_exporter": "python",
   "pygments_lexer": "ipython2",
   "version": "2.7.12"
  }
 },
 "nbformat": 4,
 "nbformat_minor": 1
}
