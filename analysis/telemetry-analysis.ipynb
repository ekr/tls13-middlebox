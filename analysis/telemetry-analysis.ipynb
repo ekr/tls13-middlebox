{
 "cells": [
  {
   "cell_type": "code",
   "execution_count": 1,
   "metadata": {
    "collapsed": false
   },
   "outputs": [
    {
     "name": "stdout",
     "output_type": "stream",
     "text": [
      "Dataset(bucket=net-mozaws-prod-us-west-2-pipeline-data, schema=[u'submissionDate', u'sourceName', u'sourceVersion', u'docType', u'appName', u'appUpdateChannel', u'appVersion', u'appBuildId'], store=<moztelemetry.store.S3Store instance at 0x7f916eb742d8>, prefix=telemetry-3, clauses={})\n"
     ]
    }
   ],
   "source": [
    "from moztelemetry.dataset import Dataset\n",
    "\n",
    "dataset = Dataset.from_source('telemetry')\n",
    "\n",
    "print dataset\n"
   ]
  },
  {
   "cell_type": "code",
   "execution_count": null,
   "metadata": {
    "collapsed": true
   },
   "outputs": [],
   "source": []
  }
 ],
 "metadata": {
  "anaconda-cloud": {},
  "kernelspec": {
   "display_name": "Python [default]",
   "language": "python",
   "name": "python2"
  },
  "language_info": {
   "codemirror_mode": {
    "name": "ipython",
    "version": 2
   },
   "file_extension": ".py",
   "mimetype": "text/x-python",
   "name": "python",
   "nbconvert_exporter": "python",
   "pygments_lexer": "ipython2",
   "version": "2.7.12"
  }
 },
 "nbformat": 4,
 "nbformat_minor": 1
}
